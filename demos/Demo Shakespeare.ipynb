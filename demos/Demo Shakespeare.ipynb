{
 "cells": [
  {
   "cell_type": "code",
   "execution_count": 5,
   "id": "5b5135a7",
   "metadata": {},
   "outputs": [
    {
     "name": "stdout",
     "output_type": "stream",
     "text": [
      "Using device: mps\n",
      "The autoreload extension is already loaded. To reload it, use:\n",
      "  %reload_ext autoreload\n"
     ]
    }
   ],
   "source": [
    "import torch\n",
    "import torch.nn as nn\n",
    "from pathlib import Path\n",
    "import os, sys\n",
    "# Add parent directory to Python path for imports\n",
    "notebook_dir = Path().absolute()\n",
    "sys.path.append(str(notebook_dir.parent))\n",
    "\n",
    "from networks import Transformer\n",
    "from runners import Runner\n",
    "from utils import get_batch\n",
    "\n",
    "import matplotlib.pyplot as plt\n",
    "\n",
    "if torch.backends.mps.is_available():\n",
    "    device = torch.device(\"mps\")\n",
    "else:\n",
    "    device = torch.device(\"cpu\")\n",
    "\n",
    "# device = \"cpu\"\n",
    "print(f\"Using device: {device}\")\n",
    "\n",
    "%load_ext autoreload\n",
    "%autoreload 2"
   ]
  },
  {
   "cell_type": "code",
   "execution_count": null,
   "id": "6f70ef97",
   "metadata": {},
   "outputs": [],
   "source": [
    "def load_shakespeare():\n",
    "    with open(\"shakespeare.txt\", \"r\", encoding=\"utf-8\") as f:\n",
    "        text = f.read()\n",
    "\n",
    "    chars = sorted(list(set(text)))\n",
    "    vocab_size = len(chars)\n",
    "\n",
    "    char_to_index = {ch: i for i, ch in enumerate(chars)}\n",
    "    index_to_char = {i: ch for i, ch in enumerate(chars)}\n",
    "    def encode(s): return [char_to_index[c] for c in s]\n",
    "    def decode(l): return \"\".join([index_to_char[i] for i in l])\n",
    "    return text, vocab_size, encode, decode\n",
    "\n",
    "text, vocab_size, encode, decode = load_shakespeare()\n",
    "data = torch.tensor(encode(text))\n",
    "n = int(0.9 * len(data))\n",
    "train_data, val_data = data[:n], data[n:]\n",
    "block_size = 50\n",
    "batch_size = 64\n",
    "\n",
    "x, y = get_batch(train_data, block_size, batch_size)\n"
   ]
  },
  {
   "cell_type": "code",
   "execution_count": 10,
   "id": "08d1d0c7",
   "metadata": {},
   "outputs": [
    {
     "name": "stdout",
     "output_type": "stream",
     "text": [
      "INPUT\n",
      " ==================================================================================================== \n",
      " vilely.\n",
      "Fare thee well. Thou art a piece of virtue\n",
      "OUTPUT\n",
      " ==================================================================================================== \n",
      " ilely.\n",
      "Fare thee well. Thou art a piece of virtue,\n"
     ]
    }
   ],
   "source": [
    "x, y = get_batch(train_data, block_size, batch_size)\n",
    "print(\"INPUT\\n\", \"=\"*100, \"\\n\", decode(x[1].tolist()))\n",
    "print(\"OUTPUT\\n\", \"=\"*100, \"\\n\", decode(y[1].tolist()))"
   ]
  },
  {
   "cell_type": "code",
   "execution_count": 23,
   "id": "33f524c2",
   "metadata": {},
   "outputs": [
    {
     "name": "stdout",
     "output_type": "stream",
     "text": [
      "Iteration 0, Loss: 4.784071445465088, Accuracy: 0.009999999776482582\n",
      "Validation Loss: 4.7718305587768555, Validation Accuracy: 0.01119999960064888\n",
      "Iteration 100, Loss: 3.1604883670806885, Accuracy: 0.19723999500274658\n",
      "Validation Loss: 3.1052141189575195, Validation Accuracy: 0.19580000638961792\n",
      "Iteration 200, Loss: 2.8033108711242676, Accuracy: 0.2396399974822998\n",
      "Validation Loss: 2.8178718090057373, Validation Accuracy: 0.23691999912261963\n",
      "Iteration 300, Loss: 2.1886425018310547, Accuracy: 0.42500001192092896\n",
      "Validation Loss: 2.1580569744110107, Validation Accuracy: 0.43595999479293823\n",
      "Iteration 400, Loss: 0.49817565083503723, Accuracy: 0.9031999707221985\n",
      "Validation Loss: 0.47665607929229736, Validation Accuracy: 0.9137600064277649\n",
      "Iteration 500, Loss: 0.2072170525789261, Accuracy: 0.9616000056266785\n",
      "Validation Loss: 0.2029348611831665, Validation Accuracy: 0.9650400280952454\n",
      "Iteration 600, Loss: 0.12530317902565002, Accuracy: 0.9758399724960327\n",
      "Validation Loss: 0.13649068772792816, Validation Accuracy: 0.9758399724960327\n",
      "Iteration 700, Loss: 0.095892995595932, Accuracy: 0.9810000061988831\n",
      "Validation Loss: 0.1012711152434349, Validation Accuracy: 0.979960024356842\n",
      "Iteration 800, Loss: 0.08182170987129211, Accuracy: 0.9824399948120117\n",
      "Validation Loss: 0.09814047813415527, Validation Accuracy: 0.9807599782943726\n",
      "Iteration 900, Loss: 0.07482419162988663, Accuracy: 0.9828799962997437\n",
      "Validation Loss: 0.08493287861347198, Validation Accuracy: 0.9823600053787231\n",
      "Iteration 1000, Loss: 0.07137438654899597, Accuracy: 0.9837200045585632\n",
      "Validation Loss: 0.09051908552646637, Validation Accuracy: 0.9816799759864807\n",
      "Iteration 1100, Loss: 0.06543755531311035, Accuracy: 0.9843199849128723\n",
      "Validation Loss: 0.08578130602836609, Validation Accuracy: 0.9822400212287903\n",
      "Iteration 1200, Loss: 0.06650938838720322, Accuracy: 0.983519971370697\n",
      "Validation Loss: 0.074653759598732, Validation Accuracy: 0.9831600189208984\n",
      "Iteration 1300, Loss: 0.06037876009941101, Accuracy: 0.9852399826049805\n",
      "Validation Loss: 0.0815669447183609, Validation Accuracy: 0.9822800159454346\n",
      "Iteration 1400, Loss: 0.05894683673977852, Accuracy: 0.9851599931716919\n",
      "Validation Loss: 0.07864060252904892, Validation Accuracy: 0.9828799962997437\n",
      "Iteration 1500, Loss: 0.062195777893066406, Accuracy: 0.9843599796295166\n",
      "Validation Loss: 0.07348503917455673, Validation Accuracy: 0.9828799962997437\n",
      "Iteration 1600, Loss: 0.06119970604777336, Accuracy: 0.9856799840927124\n",
      "Validation Loss: 0.0705474391579628, Validation Accuracy: 0.9832800030708313\n",
      "Iteration 1700, Loss: 0.05866071209311485, Accuracy: 0.9850800037384033\n",
      "Validation Loss: 0.07307299226522446, Validation Accuracy: 0.9832000136375427\n",
      "Iteration 1800, Loss: 0.05523014813661575, Accuracy: 0.985759973526001\n",
      "Validation Loss: 0.0680088996887207, Validation Accuracy: 0.9837200045585632\n",
      "Iteration 1900, Loss: 0.0580560564994812, Accuracy: 0.98471999168396\n",
      "Validation Loss: 0.07353617995977402, Validation Accuracy: 0.9828400015830994\n",
      "Iteration 2000, Loss: 0.05705669894814491, Accuracy: 0.9852799773216248\n",
      "Validation Loss: 0.06702978163957596, Validation Accuracy: 0.9836000204086304\n",
      "Iteration 2100, Loss: 0.057611871510744095, Accuracy: 0.9846400022506714\n",
      "Validation Loss: 0.0690407007932663, Validation Accuracy: 0.9831600189208984\n",
      "Iteration 2200, Loss: 0.05686788633465767, Accuracy: 0.9855200052261353\n",
      "Validation Loss: 0.06697315722703934, Validation Accuracy: 0.983680009841919\n",
      "Iteration 2300, Loss: 0.05580951273441315, Accuracy: 0.9857199788093567\n",
      "Validation Loss: 0.06782051920890808, Validation Accuracy: 0.9832800030708313\n",
      "Iteration 2400, Loss: 0.05723411217331886, Accuracy: 0.9851999878883362\n",
      "Validation Loss: 0.0662093460559845, Validation Accuracy: 0.9831200242042542\n",
      "Iteration 2500, Loss: 0.053948648273944855, Accuracy: 0.9855999946594238\n",
      "Validation Loss: 0.0659644603729248, Validation Accuracy: 0.9836400151252747\n",
      "Iteration 2600, Loss: 0.05276445671916008, Accuracy: 0.9856399893760681\n",
      "Validation Loss: 0.068001389503479, Validation Accuracy: 0.9833599925041199\n",
      "Iteration 2700, Loss: 0.05451936647295952, Accuracy: 0.985759973526001\n",
      "Validation Loss: 0.06435859203338623, Validation Accuracy: 0.9836000204086304\n",
      "Iteration 2800, Loss: 0.051428187638521194, Accuracy: 0.98580002784729\n",
      "Validation Loss: 0.05999757722020149, Validation Accuracy: 0.9836400151252747\n",
      "Iteration 2900, Loss: 0.05108087882399559, Accuracy: 0.986240029335022\n",
      "Validation Loss: 0.05967099964618683, Validation Accuracy: 0.9847999811172485\n",
      "Iteration 3000, Loss: 0.05249006673693657, Accuracy: 0.9859600067138672\n",
      "Validation Loss: 0.05795751139521599, Validation Accuracy: 0.9845200181007385\n",
      "Iteration 3100, Loss: 0.052253976464271545, Accuracy: 0.9859200119972229\n",
      "Validation Loss: 0.05799331143498421, Validation Accuracy: 0.9845600128173828\n",
      "Iteration 3200, Loss: 0.04961663484573364, Accuracy: 0.9855599999427795\n",
      "Validation Loss: 0.057351961731910706, Validation Accuracy: 0.9846400022506714\n",
      "Iteration 3300, Loss: 0.050910331308841705, Accuracy: 0.9860000014305115\n",
      "Validation Loss: 0.06278400123119354, Validation Accuracy: 0.9834799766540527\n",
      "Iteration 3400, Loss: 0.05055030807852745, Accuracy: 0.9858400225639343\n",
      "Validation Loss: 0.05897710472345352, Validation Accuracy: 0.9840400218963623\n",
      "Iteration 3500, Loss: 0.050124991685152054, Accuracy: 0.9857199788093567\n",
      "Validation Loss: 0.0518118217587471, Validation Accuracy: 0.9853600263595581\n",
      "Iteration 3600, Loss: 0.049906834959983826, Accuracy: 0.9856799840927124\n",
      "Validation Loss: 0.05688901245594025, Validation Accuracy: 0.9845200181007385\n",
      "Iteration 3700, Loss: 0.05021944269537926, Accuracy: 0.9858800172805786\n",
      "Validation Loss: 0.05164690315723419, Validation Accuracy: 0.9855200052261353\n",
      "Iteration 3800, Loss: 0.0501566119492054, Accuracy: 0.9861199855804443\n",
      "Validation Loss: 0.054733119904994965, Validation Accuracy: 0.985040009021759\n",
      "Iteration 3900, Loss: 0.04985827952623367, Accuracy: 0.9861599802970886\n",
      "Validation Loss: 0.05489925295114517, Validation Accuracy: 0.9843599796295166\n",
      "Iteration 4000, Loss: 0.05018284171819687, Accuracy: 0.9860000014305115\n",
      "Validation Loss: 0.05204778164625168, Validation Accuracy: 0.9855599999427795\n",
      "Iteration 4100, Loss: 0.05102108418941498, Accuracy: 0.9856799840927124\n",
      "Validation Loss: 0.05356822907924652, Validation Accuracy: 0.9856399893760681\n",
      "Iteration 4200, Loss: 0.04752705246210098, Accuracy: 0.9862800240516663\n",
      "Validation Loss: 0.05336025357246399, Validation Accuracy: 0.985040009021759\n",
      "Iteration 4300, Loss: 0.051567431539297104, Accuracy: 0.985759973526001\n",
      "Validation Loss: 0.051009658724069595, Validation Accuracy: 0.9853600263595581\n",
      "Iteration 4400, Loss: 0.04832569882273674, Accuracy: 0.9867600202560425\n",
      "Validation Loss: 0.05288941413164139, Validation Accuracy: 0.9854400157928467\n",
      "Iteration 4500, Loss: 0.0489552840590477, Accuracy: 0.9867200255393982\n",
      "Validation Loss: 0.050327613949775696, Validation Accuracy: 0.9858800172805786\n",
      "Iteration 4600, Loss: 0.04800364375114441, Accuracy: 0.9865999817848206\n",
      "Validation Loss: 0.05106983706355095, Validation Accuracy: 0.9855200052261353\n",
      "Iteration 4700, Loss: 0.04814491048455238, Accuracy: 0.9872000217437744\n",
      "Validation Loss: 0.05108535289764404, Validation Accuracy: 0.9860399961471558\n",
      "Iteration 4800, Loss: 0.048618488013744354, Accuracy: 0.9863600134849548\n",
      "Validation Loss: 0.049707718193531036, Validation Accuracy: 0.9863200187683105\n",
      "Iteration 4900, Loss: 0.04842596501111984, Accuracy: 0.9869199991226196\n",
      "Validation Loss: 0.04732883721590042, Validation Accuracy: 0.9866799712181091\n"
     ]
    }
   ],
   "source": [
    "iters = 1000\n",
    "net = Transformer(vocab_size, embedding_size = 32, num_heads = 3, num_layers = 1, block_size = 50, dropout=0.1).to(device)\n",
    "loss_fn = nn.CrossEntropyLoss()\n",
    "optimizer = torch.optim.AdamW(net.parameters(), lr=1e-3)\n",
    "runner = Runner(net, loss_fn, optimizer, device, metric_freq = 100)\n",
    "runner.train(train_data, val_data, batch_size = 500, iters = 5000)"
   ]
  },
  {
   "cell_type": "code",
   "execution_count": 24,
   "id": "e40241c9",
   "metadata": {},
   "outputs": [
    {
     "data": {
      "image/png": "[encoded data removed]",
      "text/plain": [
       "<Figure size 640x480 with 2 Axes>"
      ]
     },
     "metadata": {},
     "output_type": "display_data"
    }
   ],
   "source": [
    "runner.plot_metrics()"
   ]
  },
  {
   "cell_type": "code",
   "execution_count": 25,
   "id": "f5af75df",
   "metadata": {},
   "outputs": [
    {
     "name": "stdout",
     "output_type": "stream",
     "text": [
      "\u001b[94mInput:\u001b[0m \u001b[94m\n",
      "OMELETTE\n",
      " To fry, or not to fry?\u001b[0m\n",
      "\u001b[92mOutput:\u001b[0m  I\n",
      "Shiv, Rak Hen he and, my antton.\n",
      "Mw ny printh Shis riveven le mhemiss havturs,\n",
      "Ant castant vo bloverid. had grit ir weadsedem go meth latheve ome\n",
      "Bres thate hadler, our of andold st a lageppe;\n",
      "\n",
      "ROOOSI. I.\n",
      "Why lf ofst .\n",
      "Thow, Gofp yors,\n",
      "ZTHRRT.\n",
      "Tooo th,\n",
      "Fy Ws I F Gair;\n",
      "So ’s of facath cicexad’s.\n",
      "Idth ur.\n",
      "Wimy abe siodner be, cill, Sy ipy lame hicy mamy afe latesy aw is mads mave veagf hacnet mar .\n",
      "Tr mhiystete.\n",
      "Is.\n",
      "Ty loke ho\n",
      "Cs haesow emev bo, Nhic thandenced, ming goen fancrand rourenthe sold\n"
     ]
    }
   ],
   "source": [
    "string_input = \"\\nOMELETTE\\n To fry, or not to fry?\"\n",
    "predict = runner.generate(string_input, encode, decode, max_new_tokens = 500)\n",
    "print(\"\\033[94mInput:\\033[0m \\033[94m\" + string_input + \"\\033[0m\")\n",
    "print(\"\\033[92mOutput:\\033[0m \", predict)"
   ]
  }
 ],
 "metadata": {
  "kernelspec": {
   "display_name": ".venv",
   "language": "python",
   "name": "python3"
  },
  "language_info": {
   "codemirror_mode": {
    "name": "ipython",
    "version": 3
   },
   "file_extension": ".py",
   "mimetype": "text/x-python",
   "name": "python",
   "nbconvert_exporter": "python",
   "pygments_lexer": "ipython3",
   "version": "3.13.2"
  }
 },
 "nbformat": 4,
 "nbformat_minor": 5
}
