{
 "cells": [
  {
   "cell_type": "markdown",
   "id": "d1a4e3b0",
   "metadata": {},
   "source": [
    "# Demo Shakespeare: Character-Level Generation\n",
    "\n",
    "This tutorial walks through training a transformer model to generate Shakespeare-style text on the character-level.\n",
    "\n",
    "---\n",
    "\n",
    "## Step 1: Setting Up the Environment\n",
    "\n",
    "**What's happening here:** We're preparing our development environment to work with transformers.\n",
    "\n",
    "First, we import PyTorch for deep learning operations, then we set up our device selection. The code automatically detects if you have an Apple Silicon GPU (MPS) available and uses it, otherwise it falls back to CPU. This gives us the best possible performance for training.\n",
    "\n",
    "We also import our custom transformer modules (`networks`, `runners`, `utils`) and add the parent directory to the Python path so we can access these modules from the notebook."
   ]
  },
  {
   "cell_type": "code",
   "execution_count": 1,
   "id": "5b5135a7",
   "metadata": {},
   "outputs": [
    {
     "name": "stdout",
     "output_type": "stream",
     "text": [
      "Using device: mps\n"
     ]
    }
   ],
   "source": [
    "import torch\n",
    "import torch.nn as nn\n",
    "from pathlib import Path\n",
    "import os, sys\n",
    "# Add parent directory to Python path for imports\n",
    "notebook_dir = Path().absolute()\n",
    "sys.path.append(str(notebook_dir.parent))\n",
    "\n",
    "from networks import Transformer\n",
    "from runners import Runner\n",
    "from utils import get_batch\n",
    "\n",
    "import matplotlib.pyplot as plt\n",
    "\n",
    "if torch.backends.mps.is_available():\n",
    "    device = torch.device(\"mps\")\n",
    "else:\n",
    "    device = torch.device(\"cpu\")\n",
    "\n",
    "# device = \"cpu\"\n",
    "print(f\"Using device: {device}\")\n",
    "\n",
    "%load_ext autoreload\n",
    "%autoreload 2"
   ]
  },
  {
   "cell_type": "markdown",
   "id": "bc4c1bdc",
   "metadata": {},
   "source": [
    "## Step 2: Loading and Processing Shakespeare Data\n",
    "\n",
    "**What's happening here:** We're taking raw Shakespeare text and converting it into a format our model can understand.\n",
    "\n",
    "First, we read the `shakespeare.txt` file and extract all the unique characters to create our vocabulary. Then we build encoding/decoding dictionaries that convert between characters and numerical indices. This is necessary because neural networks work with numbers, not text.\n",
    "\n",
    "The `load_shakespeare()` function handles all of this automatically - it reads the file, finds unique characters, creates the conversion dictionaries, and returns everything we need to work with the data.\n"
   ]
  },
  {
   "cell_type": "code",
   "execution_count": 2,
   "id": "6f70ef97",
   "metadata": {},
   "outputs": [],
   "source": [
    "def load_shakespeare():\n",
    "    with open(\"../shakespeare.txt\", \"r\", encoding=\"utf-8\") as f:\n",
    "        text = f.read()\n",
    "\n",
    "    chars = sorted(list(set(text)))\n",
    "    vocab_size = len(chars)\n",
    "\n",
    "    char_to_index = {ch: i for i, ch in enumerate(chars)}\n",
    "    index_to_char = {i: ch for i, ch in enumerate(chars)}\n",
    "    def encode(s): return [char_to_index[c] for c in s]\n",
    "    def decode(l): return \"\".join([index_to_char[i] for i in l])\n",
    "    return text, vocab_size, encode, decode\n"
   ]
  },
  {
   "cell_type": "markdown",
   "id": "908b4b65",
   "metadata": {},
   "source": [
    "## Step 3: Preparing Data for Training\n",
    "\n",
    "**What's happening here:** We're organizing our data into training and validation sets and setting up the parameters for our training process.\n",
    "\n",
    "First, we split our data: 90% goes to training, 10% to validation. This validation set helps us monitor if our model is actually learning or just memorizing the training data.\n",
    "\n",
    "Then we set our training parameters: `block_size = 50` means each training example will use 50 characters as context, and `batch_size = 64` means we'll process 64 examples at once during training."
   ]
  },
  {
   "cell_type": "code",
   "execution_count": 3,
   "id": "fd638ae4",
   "metadata": {},
   "outputs": [
    {
     "name": "stdout",
     "output_type": "stream",
     "text": [
      "INPUT\n",
      " ==================================================================================================== \n",
      " , rough and hard of heart,\n",
      "In liberty of bloody ha\n",
      "OUTPUT\n",
      " ==================================================================================================== \n",
      "  rough and hard of heart,\n",
      "In liberty of bloody han\n"
     ]
    }
   ],
   "source": [
    "text, vocab_size, encode, decode = load_shakespeare()\n",
    "data = torch.tensor(encode(text))\n",
    "n = int(0.9 * len(data))\n",
    "train_data, val_data = data[:n], data[n:]\n",
    "block_size = 50\n",
    "batch_size = 64\n",
    "\n",
    "# Print an example of a training batch\n",
    "x, y = get_batch(train_data, block_size, batch_size)\n",
    "print(\"INPUT\\n\", \"=\"*100, \"\\n\", decode(x[1].tolist()))\n",
    "print(\"OUTPUT\\n\", \"=\"*100, \"\\n\", decode(y[1].tolist()))"
   ]
  },
  {
   "cell_type": "markdown",
   "id": "953aeaff",
   "metadata": {},
   "source": [
    "## Step 4: Training the Model\n",
    "**What's happening here:** We're creating our neural network architecture - a simplified transformer model designed for this specific task.\n",
    "\n",
    "The model has several key components:\n",
    "- **Vocabulary size**: Based on how many unique characters we found in Shakespeare\n",
    "- **Embedding size**: 32 dimensions to represent each character\n",
    "- **Attention heads**: 3 heads that allow the model to focus on different patterns in the text\n",
    "- **Layers**: Just 1 layer to keep things simple for demonstration\n",
    "- **Context window**: 50 characters, matching our training data\n",
    "\n",
    "This is a relatively small model, but it's perfect for learning the fundamentals of how transformers work. Let's train it and see what happens!"
   ]
  },
  {
   "cell_type": "code",
   "execution_count": 4,
   "id": "33f524c2",
   "metadata": {},
   "outputs": [
    {
     "name": "stderr",
     "output_type": "stream",
     "text": [
      "Train Loss: 0.0491, Train Acc: 0.9856, Val Loss: 0.0528, Val Acc: 0.9854: 100%|██████████| 5000/5000 [00:43<00:00, 115.57it/s]\n"
     ]
    }
   ],
   "source": [
    "iters = 1000\n",
    "net = Transformer(vocab_size, embedding_size = 32, num_heads = 3, num_layers = 1, block_size = 50, dropout=0.1).to(device)\n",
    "loss_fn = nn.CrossEntropyLoss()\n",
    "optimizer = torch.optim.AdamW(net.parameters(), lr=1e-3)\n",
    "runner = Runner(net, loss_fn, optimizer, device, metric_freq = 100)\n",
    "runner.train(train_data, val_data, batch_size = 500, iters = 5000)"
   ]
  },
  {
   "cell_type": "markdown",
   "id": "8660ef64",
   "metadata": {},
   "source": [
    "## Step 5: Analysis\n",
    "**What's happening here:** We're creating plots to see how our model improved over time.\n",
    "\n",
    "The `runner.plot_metrics()` function generates graphs showing training and validation loss/accuracy over the training iterations. These plots help us understand:\n",
    "- Whether the model is actually learning (decreasing loss, increasing accuracy)\n",
    "- If we're overfitting (validation metrics getting worse while training metrics improve)\n",
    "- How quickly the model converges to good performance\n",
    "\n",
    "This visualization is crucial for understanding what happened during training and diagnosing any issues."
   ]
  },
  {
   "cell_type": "code",
   "execution_count": 7,
   "id": "e40241c9",
   "metadata": {},
   "outputs": [
    {
     "data": {
      "image/png": "[encoded data removed]",
      "text/plain": [
       "<Figure size 1000x500 with 2 Axes>"
      ]
     },
     "metadata": {},
     "output_type": "display_data"
    }
   ],
   "source": [
    "runner.plot_metrics()"
   ]
  },
  {
   "cell_type": "markdown",
   "id": "bf60d8df",
   "metadata": {},
   "source": [
    "## Step 6: Generating New Text\n",
    "**What's happening here:** The exciting part - we're using our trained model to create new Shakespeare-style text!\n",
    "\n",
    "We start with a prompt (like \"OMELETTE\\n To fry, or not to fry?\") and feed it through our trained model. The model:\n",
    "1. Takes our input and converts it to numerical format\n",
    "2. Uses its learned patterns to predict the next character\n",
    "3. Adds that character to the input and repeats\n",
    "4. Continues this process for 500 new characters\n",
    "\n",
    "The result should have some structure - while it might not be readable in english, it should capture some of the core statistical elements (e.g. ending phrases in punctuation, writing across multiple lines, etc.)."
   ]
  },
  {
   "cell_type": "code",
   "execution_count": 6,
   "id": "f5af75df",
   "metadata": {},
   "outputs": [
    {
     "name": "stdout",
     "output_type": "stream",
     "text": [
      "\u001b[94mInput:\u001b[0m \u001b[94m\n",
      "OMELETTE.\n",
      "To fry, or not to fry?\u001b[0m\n",
      "\u001b[92mOutput:\u001b[0m  \n",
      "Thet siesidy this  Hou suor shel’de she wer shee tat a t wecand we t t l ce blt p’tutt m se t s d a se c, ; d t I ccle pre wimy bieve p w\n",
      "it nt thoooury uelith.\n",
      "Coaneru,\n",
      "Bu’d, I\n",
      "I  she met I it hilk ghed any s paile ary i lle p_ is  o s m. he  \n",
      "At foun tc thind thin\n",
      "She, lordedy d terid Land thomshin yTon Ind [_mee owe wit, lif mee Lo otcre! ghat Wald, ak’d ts wn h.\n",
      "shond chfo thirt at mre y. it t n trer tise d s,\n",
      "O, hino t int tho thean?\n",
      "\n",
      "CO rere t bomer aiteve gif thad u,is my heshe heontough\n"
     ]
    }
   ],
   "source": [
    "string_input = \"\\nOMELETTE.\\nTo fry, or not to fry?\"\n",
    "predict = runner.generate(string_input, encode, decode, max_new_tokens = 500)\n",
    "print(\"\\033[94mInput:\\033[0m \\033[94m\" + string_input + \"\\033[0m\")\n",
    "print(\"\\033[92mOutput:\\033[0m \", predict)"
   ]
  }
 ],
 "metadata": {
  "kernelspec": {
   "display_name": ".venv",
   "language": "python",
   "name": "python3"
  },
  "language_info": {
   "codemirror_mode": {
    "name": "ipython",
    "version": 3
   },
   "file_extension": ".py",
   "mimetype": "text/x-python",
   "name": "python",
   "nbconvert_exporter": "python",
   "pygments_lexer": "ipython3",
   "version": "3.13.2"
  }
 },
 "nbformat": 4,
 "nbformat_minor": 5
}
