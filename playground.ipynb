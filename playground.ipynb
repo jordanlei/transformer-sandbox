{
 "cells": [
  {
   "cell_type": "code",
   "execution_count": 1,
   "id": "5b5135a7",
   "metadata": {},
   "outputs": [
    {
     "name": "stdout",
     "output_type": "stream",
     "text": [
      "Using device: mps\n"
     ]
    }
   ],
   "source": [
    "import torch\n",
    "import torch.nn as nn\n",
    "from networks import Transformer\n",
    "from runners import Runner\n",
    "from utils import get_batch\n",
    "import matplotlib.pyplot as plt\n",
    "\n",
    "if torch.backends.mps.is_available():\n",
    "    device = torch.device(\"mps\")\n",
    "else:\n",
    "    device = torch.device(\"cpu\")\n",
    "\n",
    "# device = \"cpu\"\n",
    "print(f\"Using device: {device}\")\n",
    "\n",
    "%load_ext autoreload\n",
    "%autoreload 2\n"
   ]
  },
  {
   "cell_type": "code",
   "execution_count": 9,
   "id": "6f70ef97",
   "metadata": {},
   "outputs": [],
   "source": [
    "from torch._subclasses.fake_impls import data_dep\n",
    "\n",
    "\n",
    "def load_shakespeare():\n",
    "    with open(\"shakespeare.txt\", \"r\", encoding=\"utf-8\") as f:\n",
    "        text = f.read()\n",
    "\n",
    "    chars = sorted(list(set(text)))\n",
    "    vocab_size = len(chars)\n",
    "\n",
    "    char_to_index = {ch: i for i, ch in enumerate(chars)}\n",
    "    index_to_char = {i: ch for i, ch in enumerate(chars)}\n",
    "    def encode(s): return [char_to_index[c] for c in s]\n",
    "    def decode(l): return \"\".join([index_to_char[i] for i in l])\n",
    "    return text, vocab_size, encode, decode\n",
    "\n",
    "text, vocab_size, encode, decode = load_shakespeare()\n",
    "data = torch.tensor(encode(text))\n",
    "n = int(0.9 * len(data))\n",
    "train_data, val_data = data[:n], data[n:]\n",
    "block_size = 50\n",
    "batch_size = 64\n",
    "\n",
    "x, y = get_batch(train_data, block_size, batch_size)\n"
   ]
  },
  {
   "cell_type": "code",
   "execution_count": 10,
   "id": "08d1d0c7",
   "metadata": {},
   "outputs": [
    {
     "name": "stdout",
     "output_type": "stream",
     "text": [
      "INPUT\n",
      " ==================================================================================================== \n",
      " vilely.\n",
      "Fare thee well. Thou art a piece of virtue\n",
      "OUTPUT\n",
      " ==================================================================================================== \n",
      " ilely.\n",
      "Fare thee well. Thou art a piece of virtue,\n"
     ]
    }
   ],
   "source": [
    "x, y = get_batch(train_data, block_size, batch_size)\n",
    "print(\"INPUT\\n\", \"=\"*100, \"\\n\", decode(x[1].tolist()))\n",
    "print(\"OUTPUT\\n\", \"=\"*100, \"\\n\", decode(y[1].tolist()))"
   ]
  },
  {
   "cell_type": "code",
   "execution_count": 4,
   "id": "33f524c2",
   "metadata": {},
   "outputs": [
    {
     "name": "stdout",
     "output_type": "stream",
     "text": [
      "Iteration 0, Loss: 4.723592281341553, Accuracy: 0.006874999962747097\n",
      "Validation Loss: 4.697737693786621, Validation Accuracy: 0.007199999876320362\n",
      "Iteration 100, Loss: 3.1708147525787354, Accuracy: 0.18747499585151672\n",
      "Validation Loss: 3.1285274028778076, Validation Accuracy: 0.18872499465942383\n",
      "Iteration 200, Loss: 2.907073736190796, Accuracy: 0.21889999508857727\n",
      "Validation Loss: 2.8739781379699707, Validation Accuracy: 0.22130000591278076\n",
      "Iteration 300, Loss: 2.7164037227630615, Accuracy: 0.24580000340938568\n",
      "Validation Loss: 2.722637891769409, Validation Accuracy: 0.2452249974012375\n",
      "Iteration 400, Loss: 2.6398510932922363, Accuracy: 0.2549999952316284\n",
      "Validation Loss: 2.6366915702819824, Validation Accuracy: 0.25532498955726624\n",
      "Iteration 500, Loss: 2.4982144832611084, Accuracy: 0.30367499589920044\n",
      "Validation Loss: 2.5044500827789307, Validation Accuracy: 0.296750009059906\n",
      "Iteration 600, Loss: 1.3614391088485718, Accuracy: 0.6781499981880188\n",
      "Validation Loss: 1.3399226665496826, Validation Accuracy: 0.6881750226020813\n",
      "Iteration 700, Loss: 0.3094562888145447, Accuracy: 0.9402750134468079\n",
      "Validation Loss: 0.3041329085826874, Validation Accuracy: 0.9445000290870667\n",
      "Iteration 800, Loss: 0.13972602784633636, Accuracy: 0.9737250208854675\n",
      "Validation Loss: 0.16308894753456116, Validation Accuracy: 0.9699749946594238\n",
      "Iteration 900, Loss: 0.10857752710580826, Accuracy: 0.9765750169754028\n",
      "Validation Loss: 0.12930984795093536, Validation Accuracy: 0.9735999703407288\n",
      "Iteration 1000, Loss: 0.057892199605703354, Accuracy: 0.9883999824523926\n",
      "Validation Loss: 0.08544305711984634, Validation Accuracy: 0.9843249917030334\n",
      "Iteration 1100, Loss: 0.04960985854268074, Accuracy: 0.9891250133514404\n",
      "Validation Loss: 0.06842029094696045, Validation Accuracy: 0.9870250225067139\n",
      "Iteration 1200, Loss: 0.047437883913517, Accuracy: 0.9891999959945679\n",
      "Validation Loss: 0.06620955467224121, Validation Accuracy: 0.9873999953269958\n",
      "Iteration 1300, Loss: 0.04418080300092697, Accuracy: 0.9898750185966492\n",
      "Validation Loss: 0.05857103317975998, Validation Accuracy: 0.9881250262260437\n",
      "Iteration 1400, Loss: 0.04068499058485031, Accuracy: 0.9901750087738037\n",
      "Validation Loss: 0.0623936653137207, Validation Accuracy: 0.9875249862670898\n",
      "Iteration 1500, Loss: 0.041239090263843536, Accuracy: 0.9898999929428101\n",
      "Validation Loss: 0.0613686628639698, Validation Accuracy: 0.9868999719619751\n",
      "Iteration 1600, Loss: 0.0414673276245594, Accuracy: 0.9897750020027161\n",
      "Validation Loss: 0.06428029388189316, Validation Accuracy: 0.9868000149726868\n",
      "Iteration 1700, Loss: 0.03859136626124382, Accuracy: 0.9902750253677368\n",
      "Validation Loss: 0.05413154140114784, Validation Accuracy: 0.9880250096321106\n",
      "Iteration 1800, Loss: 0.03988467901945114, Accuracy: 0.989549994468689\n",
      "Validation Loss: 0.049208447337150574, Validation Accuracy: 0.9884750247001648\n",
      "Iteration 1900, Loss: 0.03817811980843544, Accuracy: 0.9904000163078308\n",
      "Validation Loss: 0.04978634789586067, Validation Accuracy: 0.9881500005722046\n",
      "Iteration 2000, Loss: 0.03615143522620201, Accuracy: 0.9905250072479248\n",
      "Validation Loss: 0.04515339806675911, Validation Accuracy: 0.9887250065803528\n",
      "Iteration 2100, Loss: 0.036455992609262466, Accuracy: 0.9902499914169312\n",
      "Validation Loss: 0.04743240028619766, Validation Accuracy: 0.9893249869346619\n",
      "Iteration 2200, Loss: 0.03680407255887985, Accuracy: 0.9904000163078308\n",
      "Validation Loss: 0.05122969299554825, Validation Accuracy: 0.9886249899864197\n",
      "Iteration 2300, Loss: 0.03535990044474602, Accuracy: 0.9904249906539917\n",
      "Validation Loss: 0.04746951162815094, Validation Accuracy: 0.989175021648407\n",
      "Iteration 2400, Loss: 0.036200255155563354, Accuracy: 0.9904500246047974\n",
      "Validation Loss: 0.043760430067777634, Validation Accuracy: 0.989300012588501\n",
      "Iteration 2500, Loss: 0.03533955290913582, Accuracy: 0.9905499815940857\n",
      "Validation Loss: 0.04673825204372406, Validation Accuracy: 0.9887999892234802\n",
      "Iteration 2600, Loss: 0.03463110327720642, Accuracy: 0.9906250238418579\n",
      "Validation Loss: 0.04299275577068329, Validation Accuracy: 0.9888749718666077\n",
      "Iteration 2700, Loss: 0.03394163027405739, Accuracy: 0.9903500080108643\n",
      "Validation Loss: 0.04851663485169411, Validation Accuracy: 0.9882749915122986\n",
      "Iteration 2800, Loss: 0.03440338000655174, Accuracy: 0.9904000163078308\n",
      "Validation Loss: 0.04638109356164932, Validation Accuracy: 0.988349974155426\n",
      "Iteration 2900, Loss: 0.03382984176278114, Accuracy: 0.9907749891281128\n",
      "Validation Loss: 0.042131055146455765, Validation Accuracy: 0.989300012588501\n",
      "Iteration 3000, Loss: 0.03375481069087982, Accuracy: 0.9905250072479248\n",
      "Validation Loss: 0.04263037070631981, Validation Accuracy: 0.9892249703407288\n",
      "Iteration 3100, Loss: 0.03361969441175461, Accuracy: 0.9908249974250793\n",
      "Validation Loss: 0.04027040675282478, Validation Accuracy: 0.9894750118255615\n",
      "Iteration 3200, Loss: 0.03410395607352257, Accuracy: 0.9908499717712402\n",
      "Validation Loss: 0.039387162774801254, Validation Accuracy: 0.9897500276565552\n",
      "Iteration 3300, Loss: 0.033652033656835556, Accuracy: 0.9907749891281128\n",
      "Validation Loss: 0.03944333270192146, Validation Accuracy: 0.9897750020027161\n",
      "Iteration 3400, Loss: 0.03432520106434822, Accuracy: 0.9908499717712402\n",
      "Validation Loss: 0.03919840604066849, Validation Accuracy: 0.9897000193595886\n",
      "Iteration 3500, Loss: 0.032982226461172104, Accuracy: 0.9908750057220459\n",
      "Validation Loss: 0.03884967043995857, Validation Accuracy: 0.9896500110626221\n",
      "Iteration 3600, Loss: 0.032233159989118576, Accuracy: 0.9908499717712402\n",
      "Validation Loss: 0.03776731714606285, Validation Accuracy: 0.9898999929428101\n",
      "Iteration 3700, Loss: 0.032889753580093384, Accuracy: 0.9909999966621399\n",
      "Validation Loss: 0.03625679761171341, Validation Accuracy: 0.9899749755859375\n",
      "Iteration 3800, Loss: 0.03255010396242142, Accuracy: 0.9910749793052673\n",
      "Validation Loss: 0.03921012580394745, Validation Accuracy: 0.989799976348877\n",
      "Iteration 3900, Loss: 0.03238542750477791, Accuracy: 0.9909250140190125\n",
      "Validation Loss: 0.036484673619270325, Validation Accuracy: 0.9898750185966492\n",
      "Iteration 4000, Loss: 0.03271473944187164, Accuracy: 0.991100013256073\n",
      "Validation Loss: 0.034542523324489594, Validation Accuracy: 0.9905750155448914\n",
      "Iteration 4100, Loss: 0.03247316926717758, Accuracy: 0.9910749793052673\n",
      "Validation Loss: 0.03526247292757034, Validation Accuracy: 0.9900000095367432\n",
      "Iteration 4200, Loss: 0.033719465136528015, Accuracy: 0.9907749891281128\n",
      "Validation Loss: 0.03499097749590874, Validation Accuracy: 0.9902999997138977\n",
      "Iteration 4300, Loss: 0.031933218240737915, Accuracy: 0.9911500215530396\n",
      "Validation Loss: 0.034171465784311295, Validation Accuracy: 0.9910249710083008\n",
      "Iteration 4400, Loss: 0.032274894416332245, Accuracy: 0.9911749958992004\n",
      "Validation Loss: 0.033316876739263535, Validation Accuracy: 0.9909250140190125\n",
      "Iteration 4500, Loss: 0.03071354329586029, Accuracy: 0.9912499785423279\n",
      "Validation Loss: 0.03787444531917572, Validation Accuracy: 0.9901750087738037\n",
      "Iteration 4600, Loss: 0.030487647280097008, Accuracy: 0.9913250207901001\n",
      "Validation Loss: 0.03310677036643028, Validation Accuracy: 0.9906749725341797\n",
      "Iteration 4700, Loss: 0.031369488686323166, Accuracy: 0.9910249710083008\n",
      "Validation Loss: 0.03290514275431633, Validation Accuracy: 0.9909999966621399\n",
      "Iteration 4800, Loss: 0.031568873673677444, Accuracy: 0.9911749958992004\n",
      "Validation Loss: 0.03454739227890968, Validation Accuracy: 0.9904749989509583\n",
      "Iteration 4900, Loss: 0.030914749950170517, Accuracy: 0.991599977016449\n",
      "Validation Loss: 0.03538339212536812, Validation Accuracy: 0.9900500178337097\n"
     ]
    }
   ],
   "source": [
    "iters = 1000\n",
    "net = Transformer(vocab_size, embedding_size = 32, num_heads = 1, num_layers = 1, block_size = 80, dropout=0.1).to(device)\n",
    "loss_fn = nn.CrossEntropyLoss()\n",
    "optimizer = torch.optim.AdamW(net.parameters(), lr=1e-3)\n",
    "runner = Runner(net, loss_fn, optimizer, device, metric_freq = 100)\n",
    "runner.train(train_data, val_data, batch_size = 500, iters = 5000)"
   ]
  },
  {
   "cell_type": "code",
   "execution_count": 5,
   "id": "e40241c9",
   "metadata": {},
   "outputs": [
    {
     "data": {
      "image/png": "[encoded data removed]",
      "text/plain": [
       "<Figure size 640x480 with 2 Axes>"
      ]
     },
     "metadata": {},
     "output_type": "display_data"
    }
   ],
   "source": [
    "runner.plot_metrics()"
   ]
  },
  {
   "cell_type": "code",
   "execution_count": 12,
   "id": "f5af75df",
   "metadata": {},
   "outputs": [
    {
     "name": "stdout",
     "output_type": "stream",
     "text": [
      "\t\t\t\t\t\t\t\t\t\t\t\t\t\t\t\t\t\t\t\t\t\t\t\t\t\t\t\t\t\t\t\t\t\t\t\t\t\t\t\t\t\t\t\t\t\t\t\n",
      "OMELETTE\n",
      " To fry, or not to fry?\n",
      "Omesen.\n",
      "Kar we serest helouckery ind!\n",
      "HIRD.\n",
      "“ODG haer re! I so fof?]\n",
      "O.\n",
      "But Fhe fr cime Ce\n",
      "AJ thelfes na aruiriben.\n",
      "By BA Princyifod mofldean.\n",
      "Wh Ho youse\n",
      "NITAnt,\n",
      "NONInd\n",
      "And Mouck yous\n",
      "PENRLLNATheqran1 beay we han norat\n",
      "NOS. whll.\n",
      "Aneoritlin’,\n",
      "BOThig Maatefeasentermeneroure,\n",
      "WLOWld, Sene ther. ly four cacer.\n",
      "CEgouch hibe wavin\n",
      "\n",
      "WAMAd?\n",
      "ANI\n",
      "Y. Baeyq\n",
      "NPSOPAmic, hay soud prou\n",
      "\n",
      "\n",
      "\n",
      "CEESITHIESTONIOWh, ARyanouset Ir to the nooud kackindel sous nuhet hans a, are cofite.\n",
      "\n",
      "OUSr!\n",
      "HER_ERAR5\n",
      "\n",
      "ERRIN.\n",
      "ERORI hes\n"
     ]
    }
   ],
   "source": [
    "string_input = \"\\nOMELETTE\\n To fry, or not to fry?\"\n",
    "predict = runner.generate(string_input, encode, decode, max_new_tokens = 500)\n",
    "print(predict)"
   ]
  },
  {
   "cell_type": "code",
   "execution_count": null,
   "id": "45174afb",
   "metadata": {},
   "outputs": [],
   "source": []
  }
 ],
 "metadata": {
  "kernelspec": {
   "display_name": ".venv",
   "language": "python",
   "name": "python3"
  },
  "language_info": {
   "codemirror_mode": {
    "name": "ipython",
    "version": 3
   },
   "file_extension": ".py",
   "mimetype": "text/x-python",
   "name": "python",
   "nbconvert_exporter": "python",
   "pygments_lexer": "ipython3",
   "version": "3.13.2"
  }
 },
 "nbformat": 4,
 "nbformat_minor": 5
}
